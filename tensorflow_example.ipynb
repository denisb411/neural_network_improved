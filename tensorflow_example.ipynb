{
 "cells": [
  {
   "cell_type": "code",
   "execution_count": 1,
   "metadata": {},
   "outputs": [
    {
     "name": "stderr",
     "output_type": "stream",
     "text": [
      "C:\\Users\\Denis\\AppData\\Local\\conda\\conda\\envs\\tensorflow_env_gpu\\lib\\site-packages\\h5py\\__init__.py:36: FutureWarning: Conversion of the second argument of issubdtype from `float` to `np.floating` is deprecated. In future, it will be treated as `np.float64 == np.dtype(float).type`.\n",
      "  from ._conv import register_converters as _register_converters\n"
     ]
    }
   ],
   "source": [
    "import numpy as np\n",
    "import tensorflow as tf"
   ]
  },
  {
   "cell_type": "code",
   "execution_count": 2,
   "metadata": {
    "collapsed": true
   },
   "outputs": [],
   "source": [
    "# you have to specify the type\n",
    "A = tf.placeholder(tf.float32, shape=(5, 5), name='A')\n",
    "\n",
    "\n",
    "# but shape and name are optional\n",
    "v = tf.placeholder(tf.float32)\n",
    "\n",
    "\n",
    "# I think this name is more appropriate than 'dot'\n",
    "w = tf.matmul(A, v)"
   ]
  },
  {
   "cell_type": "code",
   "execution_count": 3,
   "metadata": {},
   "outputs": [
    {
     "name": "stdout",
     "output_type": "stream",
     "text": [
      "[[ 0.00472598]\n",
      " [-0.43340614]\n",
      " [ 0.05661434]\n",
      " [-0.58585685]\n",
      " [-0.39839315]] <class 'numpy.ndarray'>\n"
     ]
    }
   ],
   "source": [
    "# similar to Theano, you need to \"feed\" the variables values.\n",
    "# In TensorFlow you do the \"actual work\" in a \"session\".\n",
    "\n",
    "with tf.Session() as session:\n",
    "    # the values are fed in via the appropriately named argument \"feed_dict\"\n",
    "    # v needs to be of shape=(5, 1) not just shape=(5,)\n",
    "    # it's more like \"real\" matrix multiplication\n",
    "    output = session.run(w, feed_dict={A: np.random.randn(5, 5), v: np.random.randn(5, 1)})\n",
    "\n",
    "    # what's this output that is returned by the session? let's print it\n",
    "    print(output, type(output))\n",
    "    \n",
    "    # luckily, the output type is just a numpy array. back to safety!"
   ]
  },
  {
   "cell_type": "code",
   "execution_count": 4,
   "metadata": {
    "collapsed": true
   },
   "outputs": [],
   "source": [
    "# A tf variable can be initialized with a numpy array or a tf array\n",
    "# or more correctly, anything that can be turned into a tf tensor\n",
    "shape = (2, 2)\n",
    "x = tf.Variable(tf.random_normal(shape))\n",
    "# x = tf.Variable(np.random.randn(2, 2))\n",
    "t = tf.Variable(0) # a scalar"
   ]
  },
  {
   "cell_type": "code",
   "execution_count": 5,
   "metadata": {
    "collapsed": true
   },
   "outputs": [],
   "source": [
    "# you need to \"initialize\" the variables first\n",
    "init = tf.global_variables_initializer()"
   ]
  },
  {
   "cell_type": "code",
   "execution_count": 6,
   "metadata": {},
   "outputs": [
    {
     "name": "stdout",
     "output_type": "stream",
     "text": [
      "None\n",
      "[[-1.0526377   0.4078191 ]\n",
      " [-0.66109604 -1.5805446 ]]\n",
      "0\n"
     ]
    }
   ],
   "source": [
    "with tf.Session() as session:\n",
    "    out = session.run(init) # and then \"run\" the init operation\n",
    "    print(out) # it's just None\n",
    "\n",
    "    # eval() in tf is like get_value() in Theano\n",
    "    print(x.eval()) # the initial value of x\n",
    "    print(t.eval())"
   ]
  },
  {
   "cell_type": "code",
   "execution_count": 8,
   "metadata": {},
   "outputs": [],
   "source": [
    "# let's now try to find the minimum of a simple cost function like we did in Theano\n",
    "u = tf.Variable(20.0)\n",
    "cost = u*u + u + 1.0\n",
    "\n",
    "# One difference between Theano and TensorFlow is that you don't write the updates\n",
    "# yourself in TensorFlow. You choose an optimizer that implements the algorithm you want.\n",
    "# 0.3 is the learning rate. Documentation lists the params.\n",
    "train_op = tf.train.GradientDescentOptimizer(0.3).minimize(cost)"
   ]
  },
  {
   "cell_type": "code",
   "execution_count": 11,
   "metadata": {},
   "outputs": [
    {
     "name": "stdout",
     "output_type": "stream",
     "text": [
      "i = 0, cost = 67.990, u = 7.700\n",
      "i = 1, cost = 11.508, u = 2.780\n",
      "i = 2, cost = 2.471, u = 0.812\n",
      "i = 3, cost = 1.025, u = 0.025\n",
      "i = 4, cost = 0.794, u = -0.290\n",
      "i = 5, cost = 0.757, u = -0.416\n",
      "i = 6, cost = 0.751, u = -0.466\n",
      "i = 7, cost = 0.750, u = -0.487\n",
      "i = 8, cost = 0.750, u = -0.495\n",
      "i = 9, cost = 0.750, u = -0.498\n",
      "i = 10, cost = 0.750, u = -0.499\n",
      "i = 11, cost = 0.750, u = -0.500\n"
     ]
    }
   ],
   "source": [
    "# let's run a session again\n",
    "init = tf.global_variables_initializer()\n",
    "with tf.Session() as session:\n",
    "    session.run(init)\n",
    "\n",
    "    # Strangely, while the weight update is automated, the loop itself is not.\n",
    "    # So we'll just call train_op until convergence.\n",
    "    # This is useful for us anyway since we want to track the cost function.\n",
    "    for i in range(12):\n",
    "        session.run(train_op)\n",
    "        print(\"i = %d, cost = %.3f, u = %.3f\" % (i, cost.eval(), u.eval()))"
   ]
  },
  {
   "cell_type": "code",
   "execution_count": 12,
   "metadata": {
    "collapsed": true
   },
   "outputs": [],
   "source": [
    "def error_rate(p, t):\n",
    "    return np.mean(p != t)"
   ]
  },
  {
   "cell_type": "code",
   "execution_count": 14,
   "metadata": {},
   "outputs": [
    {
     "name": "stdout",
     "output_type": "stream",
     "text": [
      "Reading in and transforming data...\n"
     ]
    }
   ],
   "source": [
    "from util import get_normalized_data, y2indicator\n",
    "\n",
    "# step 1: get the data and define all the usual variables\n",
    "X, Y = get_normalized_data()\n",
    "\n",
    "max_iter = 15\n",
    "print_period = 10\n",
    "\n",
    "lr = 0.00004\n",
    "reg = 0.01\n",
    "\n",
    "Xtrain = X[:-1000,]\n",
    "Ytrain = Y[:-1000]\n",
    "Xtest  = X[-1000:,]\n",
    "Ytest  = Y[-1000:]\n",
    "Ytrain_ind = y2indicator(Ytrain)\n",
    "Ytest_ind = y2indicator(Ytest)\n",
    "\n",
    "N, D = Xtrain.shape\n",
    "batch_sz = 500\n",
    "n_batches = N // batch_sz\n",
    "\n",
    "# add an extra layer just for fun\n",
    "M1 = 300\n",
    "M2 = 100\n",
    "K = 10\n",
    "W1_init = np.random.randn(D, M1) / 28\n",
    "b1_init = np.zeros(M1)\n",
    "W2_init = np.random.randn(M1, M2) / np.sqrt(M1)\n",
    "b2_init = np.zeros(M2)\n",
    "W3_init = np.random.randn(M2, K) / np.sqrt(M2)\n",
    "b3_init = np.zeros(K)"
   ]
  },
  {
   "cell_type": "code",
   "execution_count": 15,
   "metadata": {
    "collapsed": true
   },
   "outputs": [],
   "source": [
    "# define variables and expressions\n",
    "X = tf.placeholder(tf.float32, shape=(None, D), name='X')\n",
    "T = tf.placeholder(tf.float32, shape=(None, K), name='T')\n",
    "W1 = tf.Variable(W1_init.astype(np.float32))\n",
    "b1 = tf.Variable(b1_init.astype(np.float32))\n",
    "W2 = tf.Variable(W2_init.astype(np.float32))\n",
    "b2 = tf.Variable(b2_init.astype(np.float32))\n",
    "W3 = tf.Variable(W3_init.astype(np.float32))\n",
    "b3 = tf.Variable(b3_init.astype(np.float32))"
   ]
  },
  {
   "cell_type": "code",
   "execution_count": 16,
   "metadata": {
    "collapsed": true
   },
   "outputs": [],
   "source": [
    "# define the model\n",
    "Z1 = tf.nn.relu( tf.matmul(X, W1) + b1 )\n",
    "Z2 = tf.nn.relu( tf.matmul(Z1, W2) + b2 )\n",
    "Yish = tf.matmul(Z2, W3) + b3 # remember, the cost function does the softmaxing! weird, right?"
   ]
  },
  {
   "cell_type": "code",
   "execution_count": 17,
   "metadata": {
    "collapsed": true
   },
   "outputs": [],
   "source": [
    "# softmax_cross_entropy_with_logits take in the \"logits\"\n",
    "# if you wanted to know the actual output of the neural net,\n",
    "# you could pass \"Yish\" into tf.nn.softmax(logits)\n",
    "cost = tf.reduce_sum(tf.nn.softmax_cross_entropy_with_logits(logits=Yish, labels=T))"
   ]
  },
  {
   "cell_type": "code",
   "execution_count": 20,
   "metadata": {},
   "outputs": [],
   "source": [
    "# we choose the optimizer but don't implement the algorithm ourselves\n",
    "# let's go with RMSprop, since we just learned about it.\n",
    "# it includes momentum!\n",
    "train_op = tf.train.RMSPropOptimizer(lr, decay=0.99, momentum=0.9).minimize(cost)\n",
    "\n",
    "# we'll use this to calculate the error rate\n",
    "predict_op = tf.argmax(Yish, 1)"
   ]
  },
  {
   "cell_type": "code",
   "execution_count": 21,
   "metadata": {},
   "outputs": [
    {
     "name": "stdout",
     "output_type": "stream",
     "text": [
      "Cost / err at iteration i=0, j=0: 2411.788 / 0.921\n",
      "Cost / err at iteration i=0, j=10: 1586.887 / 0.351\n",
      "Cost / err at iteration i=0, j=20: 881.479 / 0.218\n",
      "Cost / err at iteration i=0, j=30: 552.248 / 0.150\n",
      "Cost / err at iteration i=0, j=40: 418.609 / 0.121\n",
      "Cost / err at iteration i=0, j=50: 354.205 / 0.108\n",
      "Cost / err at iteration i=0, j=60: 309.814 / 0.094\n",
      "Cost / err at iteration i=0, j=70: 281.038 / 0.084\n",
      "Cost / err at iteration i=0, j=80: 258.173 / 0.072\n",
      "Cost / err at iteration i=1, j=0: 253.879 / 0.071\n",
      "Cost / err at iteration i=1, j=10: 238.339 / 0.067\n",
      "Cost / err at iteration i=1, j=20: 226.287 / 0.065\n",
      "Cost / err at iteration i=1, j=30: 213.087 / 0.061\n",
      "Cost / err at iteration i=1, j=40: 202.742 / 0.059\n",
      "Cost / err at iteration i=1, j=50: 194.987 / 0.058\n",
      "Cost / err at iteration i=1, j=60: 185.012 / 0.056\n",
      "Cost / err at iteration i=1, j=70: 176.488 / 0.054\n",
      "Cost / err at iteration i=1, j=80: 168.628 / 0.047\n",
      "Cost / err at iteration i=2, j=0: 166.704 / 0.045\n",
      "Cost / err at iteration i=2, j=10: 162.353 / 0.043\n",
      "Cost / err at iteration i=2, j=20: 159.001 / 0.046\n",
      "Cost / err at iteration i=2, j=30: 154.846 / 0.043\n",
      "Cost / err at iteration i=2, j=40: 151.354 / 0.044\n",
      "Cost / err at iteration i=2, j=50: 147.821 / 0.046\n",
      "Cost / err at iteration i=2, j=60: 143.673 / 0.044\n",
      "Cost / err at iteration i=2, j=70: 135.168 / 0.038\n",
      "Cost / err at iteration i=2, j=80: 130.478 / 0.037\n",
      "Cost / err at iteration i=3, j=0: 128.737 / 0.039\n",
      "Cost / err at iteration i=3, j=10: 125.923 / 0.036\n",
      "Cost / err at iteration i=3, j=20: 125.647 / 0.034\n",
      "Cost / err at iteration i=3, j=30: 125.144 / 0.033\n",
      "Cost / err at iteration i=3, j=40: 122.897 / 0.037\n",
      "Cost / err at iteration i=3, j=50: 121.805 / 0.036\n",
      "Cost / err at iteration i=3, j=60: 118.828 / 0.033\n",
      "Cost / err at iteration i=3, j=70: 110.908 / 0.031\n",
      "Cost / err at iteration i=3, j=80: 107.584 / 0.029\n",
      "Cost / err at iteration i=4, j=0: 106.167 / 0.031\n",
      "Cost / err at iteration i=4, j=10: 105.211 / 0.029\n",
      "Cost / err at iteration i=4, j=20: 106.285 / 0.029\n",
      "Cost / err at iteration i=4, j=30: 106.794 / 0.030\n",
      "Cost / err at iteration i=4, j=40: 104.772 / 0.030\n",
      "Cost / err at iteration i=4, j=50: 105.293 / 0.032\n",
      "Cost / err at iteration i=4, j=60: 103.278 / 0.029\n",
      "Cost / err at iteration i=4, j=70: 95.751 / 0.027\n",
      "Cost / err at iteration i=4, j=80: 93.249 / 0.025\n",
      "Cost / err at iteration i=5, j=0: 91.993 / 0.024\n",
      "Cost / err at iteration i=5, j=10: 92.647 / 0.028\n",
      "Cost / err at iteration i=5, j=20: 94.129 / 0.025\n",
      "Cost / err at iteration i=5, j=30: 95.415 / 0.026\n",
      "Cost / err at iteration i=5, j=40: 94.193 / 0.026\n",
      "Cost / err at iteration i=5, j=50: 95.270 / 0.025\n",
      "Cost / err at iteration i=5, j=60: 93.545 / 0.024\n",
      "Cost / err at iteration i=5, j=70: 87.210 / 0.027\n",
      "Cost / err at iteration i=5, j=80: 85.303 / 0.022\n",
      "Cost / err at iteration i=6, j=0: 84.151 / 0.021\n",
      "Cost / err at iteration i=6, j=10: 85.245 / 0.027\n",
      "Cost / err at iteration i=6, j=20: 85.293 / 0.022\n",
      "Cost / err at iteration i=6, j=30: 87.270 / 0.024\n",
      "Cost / err at iteration i=6, j=40: 85.721 / 0.020\n",
      "Cost / err at iteration i=6, j=50: 87.981 / 0.023\n",
      "Cost / err at iteration i=6, j=60: 86.701 / 0.024\n",
      "Cost / err at iteration i=6, j=70: 81.335 / 0.024\n",
      "Cost / err at iteration i=6, j=80: 80.418 / 0.021\n",
      "Cost / err at iteration i=7, j=0: 79.423 / 0.021\n",
      "Cost / err at iteration i=7, j=10: 81.632 / 0.026\n",
      "Cost / err at iteration i=7, j=20: 81.233 / 0.024\n",
      "Cost / err at iteration i=7, j=30: 82.551 / 0.021\n",
      "Cost / err at iteration i=7, j=40: 81.530 / 0.019\n",
      "Cost / err at iteration i=7, j=50: 84.906 / 0.022\n",
      "Cost / err at iteration i=7, j=60: 83.793 / 0.021\n",
      "Cost / err at iteration i=7, j=70: 78.385 / 0.023\n",
      "Cost / err at iteration i=7, j=80: 76.661 / 0.022\n",
      "Cost / err at iteration i=8, j=0: 75.626 / 0.022\n",
      "Cost / err at iteration i=8, j=10: 77.645 / 0.024\n",
      "Cost / err at iteration i=8, j=20: 78.642 / 0.025\n",
      "Cost / err at iteration i=8, j=30: 79.386 / 0.019\n",
      "Cost / err at iteration i=8, j=40: 78.384 / 0.020\n",
      "Cost / err at iteration i=8, j=50: 82.822 / 0.023\n",
      "Cost / err at iteration i=8, j=60: 82.053 / 0.020\n",
      "Cost / err at iteration i=8, j=70: 76.773 / 0.022\n",
      "Cost / err at iteration i=8, j=80: 74.863 / 0.022\n",
      "Cost / err at iteration i=9, j=0: 73.729 / 0.022\n",
      "Cost / err at iteration i=9, j=10: 75.104 / 0.021\n",
      "Cost / err at iteration i=9, j=20: 77.563 / 0.023\n",
      "Cost / err at iteration i=9, j=30: 78.226 / 0.021\n",
      "Cost / err at iteration i=9, j=40: 77.805 / 0.020\n",
      "Cost / err at iteration i=9, j=50: 82.512 / 0.024\n",
      "Cost / err at iteration i=9, j=60: 82.193 / 0.021\n",
      "Cost / err at iteration i=9, j=70: 77.464 / 0.022\n",
      "Cost / err at iteration i=9, j=80: 74.565 / 0.021\n",
      "Cost / err at iteration i=10, j=0: 73.352 / 0.022\n",
      "Cost / err at iteration i=10, j=10: 73.694 / 0.020\n",
      "Cost / err at iteration i=10, j=20: 78.159 / 0.024\n",
      "Cost / err at iteration i=10, j=30: 77.436 / 0.020\n",
      "Cost / err at iteration i=10, j=40: 76.201 / 0.020\n",
      "Cost / err at iteration i=10, j=50: 82.660 / 0.023\n",
      "Cost / err at iteration i=10, j=60: 81.889 / 0.021\n",
      "Cost / err at iteration i=10, j=70: 77.992 / 0.022\n",
      "Cost / err at iteration i=10, j=80: 75.019 / 0.021\n",
      "Cost / err at iteration i=11, j=0: 73.821 / 0.021\n",
      "Cost / err at iteration i=11, j=10: 73.422 / 0.020\n",
      "Cost / err at iteration i=11, j=20: 78.755 / 0.024\n",
      "Cost / err at iteration i=11, j=30: 77.349 / 0.020\n",
      "Cost / err at iteration i=11, j=40: 76.598 / 0.020\n",
      "Cost / err at iteration i=11, j=50: 84.579 / 0.023\n",
      "Cost / err at iteration i=11, j=60: 83.160 / 0.021\n",
      "Cost / err at iteration i=11, j=70: 79.326 / 0.023\n",
      "Cost / err at iteration i=11, j=80: 76.056 / 0.023\n",
      "Cost / err at iteration i=12, j=0: 74.638 / 0.023\n",
      "Cost / err at iteration i=12, j=10: 73.558 / 0.020\n",
      "Cost / err at iteration i=12, j=20: 78.942 / 0.024\n",
      "Cost / err at iteration i=12, j=30: 77.099 / 0.022\n",
      "Cost / err at iteration i=12, j=40: 76.568 / 0.019\n",
      "Cost / err at iteration i=12, j=50: 85.135 / 0.023\n",
      "Cost / err at iteration i=12, j=60: 83.247 / 0.021\n",
      "Cost / err at iteration i=12, j=70: 80.309 / 0.022\n",
      "Cost / err at iteration i=12, j=80: 76.849 / 0.023\n",
      "Cost / err at iteration i=13, j=0: 75.356 / 0.023\n",
      "Cost / err at iteration i=13, j=10: 74.717 / 0.022\n",
      "Cost / err at iteration i=13, j=20: 81.285 / 0.023\n",
      "Cost / err at iteration i=13, j=30: 78.776 / 0.021\n",
      "Cost / err at iteration i=13, j=40: 77.499 / 0.018\n",
      "Cost / err at iteration i=13, j=50: 87.823 / 0.021\n",
      "Cost / err at iteration i=13, j=60: 84.285 / 0.021\n",
      "Cost / err at iteration i=13, j=70: 81.462 / 0.023\n",
      "Cost / err at iteration i=13, j=80: 79.302 / 0.022\n",
      "Cost / err at iteration i=14, j=0: 77.503 / 0.022\n",
      "Cost / err at iteration i=14, j=10: 75.579 / 0.022\n",
      "Cost / err at iteration i=14, j=20: 81.565 / 0.022\n",
      "Cost / err at iteration i=14, j=30: 79.164 / 0.020\n",
      "Cost / err at iteration i=14, j=40: 77.431 / 0.019\n",
      "Cost / err at iteration i=14, j=50: 88.547 / 0.023\n",
      "Cost / err at iteration i=14, j=60: 84.844 / 0.021\n",
      "Cost / err at iteration i=14, j=70: 81.947 / 0.023\n",
      "Cost / err at iteration i=14, j=80: 81.269 / 0.022\n"
     ]
    },
    {
     "ename": "NameError",
     "evalue": "name 'plt' is not defined",
     "output_type": "error",
     "traceback": [
      "\u001b[1;31m---------------------------------------------------------------------------\u001b[0m",
      "\u001b[1;31mNameError\u001b[0m                                 Traceback (most recent call last)",
      "\u001b[1;32m<ipython-input-21-5b0eae3bc284>\u001b[0m in \u001b[0;36m<module>\u001b[1;34m()\u001b[0m\n\u001b[0;32m     17\u001b[0m                 \u001b[0mcosts\u001b[0m\u001b[1;33m.\u001b[0m\u001b[0mappend\u001b[0m\u001b[1;33m(\u001b[0m\u001b[0mtest_cost\u001b[0m\u001b[1;33m)\u001b[0m\u001b[1;33m\u001b[0m\u001b[0m\n\u001b[0;32m     18\u001b[0m \u001b[1;33m\u001b[0m\u001b[0m\n\u001b[1;32m---> 19\u001b[1;33m \u001b[0mplt\u001b[0m\u001b[1;33m.\u001b[0m\u001b[0mplot\u001b[0m\u001b[1;33m(\u001b[0m\u001b[0mcosts\u001b[0m\u001b[1;33m)\u001b[0m\u001b[1;33m\u001b[0m\u001b[0m\n\u001b[0m\u001b[0;32m     20\u001b[0m \u001b[0mplt\u001b[0m\u001b[1;33m.\u001b[0m\u001b[0mshow\u001b[0m\u001b[1;33m(\u001b[0m\u001b[1;33m)\u001b[0m\u001b[1;33m\u001b[0m\u001b[0m\n\u001b[0;32m     21\u001b[0m \u001b[1;31m# increase max_iter and notice how the test cost starts to increase.\u001b[0m\u001b[1;33m\u001b[0m\u001b[1;33m\u001b[0m\u001b[0m\n",
      "\u001b[1;31mNameError\u001b[0m: name 'plt' is not defined"
     ]
    }
   ],
   "source": [
    "costs = []\n",
    "init = tf.global_variables_initializer()\n",
    "with tf.Session() as session:\n",
    "    session.run(init)\n",
    "\n",
    "    for i in range(max_iter):\n",
    "        for j in range(n_batches):\n",
    "            Xbatch = Xtrain[j*batch_sz:(j*batch_sz + batch_sz),]\n",
    "            Ybatch = Ytrain_ind[j*batch_sz:(j*batch_sz + batch_sz),]\n",
    "\n",
    "            session.run(train_op, feed_dict={X: Xbatch, T: Ybatch})\n",
    "            if j % print_period == 0:\n",
    "                test_cost = session.run(cost, feed_dict={X: Xtest, T: Ytest_ind})\n",
    "                prediction = session.run(predict_op, feed_dict={X: Xtest})\n",
    "                err = error_rate(prediction, Ytest)\n",
    "                print(\"Cost / err at iteration i=%d, j=%d: %.3f / %.3f\" % (i, j, test_cost, err))\n",
    "                costs.append(test_cost)\n",
    "\n"
   ]
  },
  {
   "cell_type": "code",
   "execution_count": 22,
   "metadata": {},
   "outputs": [
    {
     "data": {
      "image/png": "[encoded data removed]",
      "text/plain": [
       "<matplotlib.figure.Figure at 0x1c9eff7bf98>"
      ]
     },
     "metadata": {},
     "output_type": "display_data"
    }
   ],
   "source": [
    "import matplotlib.pyplot as plt\n",
    "\n",
    "plt.plot(costs)\n",
    "plt.show()\n",
    "# increase max_iter and notice how the test cost starts to increase.\n",
    "# are we overfitting by adding that extra layer?\n",
    "# how would you add regularization to this model?"
   ]
  },
  {
   "cell_type": "code",
   "execution_count": null,
   "metadata": {
    "collapsed": true
   },
   "outputs": [],
   "source": []
  }
 ],
 "metadata": {
  "kernelspec": {
   "display_name": "Python 3",
   "language": "python",
   "name": "python3"
  },
  "language_info": {
   "codemirror_mode": {
    "name": "ipython",
    "version": 3
   },
   "file_extension": ".py",
   "mimetype": "text/x-python",
   "name": "python",
   "nbconvert_exporter": "python",
   "pygments_lexer": "ipython3",
   "version": "3.6.2"
  }
 },
 "nbformat": 4,
 "nbformat_minor": 2
}
