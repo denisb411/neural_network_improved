{
 "cells": [
  {
   "cell_type": "code",
   "execution_count": 1,
   "metadata": {
    "collapsed": true
   },
   "outputs": [],
   "source": [
    "import numpy as np\n",
    "\n",
    "def forward(X, W1, b1, W2, b2):\n",
    "    # sigmoid\n",
    "    # Z = 1 / (1 + np.exp(-( X.dot(W1) + b1 )))\n",
    "\n",
    "    # relu\n",
    "    Z = X.dot(W1) + b1\n",
    "    Z[Z < 0] = 0\n",
    "\n",
    "    A = Z.dot(W2) + b2\n",
    "    expA = np.exp(A)\n",
    "    Y = expA / expA.sum(axis=1, keepdims=True)\n",
    "    return Y, Z\n",
    "\n",
    "def derivative_w2(Z, T, Y):\n",
    "    return Z.T.dot(Y - T)\n",
    "\n",
    "def derivative_b2(T, Y):\n",
    "    return (Y - T).sum(axis=0)\n",
    "\n",
    "def derivative_w1(X, Z, T, Y, W2, act_function='relu'):\n",
    "    if act_function == 'sigmoid':\n",
    "        return X.T.dot( ( ( Y-T ).dot(W2.T) * ( Z*(1 - Z) ) ) ) # for sigmoid\n",
    "    return X.T.dot( ( ( Y-T ).dot(W2.T) * (Z > 0) ) ) # for relu\n",
    "\n",
    "def derivative_b1(Z, T, Y, W2, act_function='relu'):\n",
    "    if act_function == 'sigmoid':\n",
    "        return (( Y-T ).dot(W2.T) * ( Z*(1 - Z) )).sum(axis=0) # for sigmoid\n",
    "    return (( Y-T ).dot(W2.T) * (Z > 0)).sum(axis=0) # for relu\n"
   ]
  },
  {
   "cell_type": "code",
   "execution_count": 3,
   "metadata": {},
   "outputs": [
    {
     "name": "stdout",
     "output_type": "stream",
     "text": [
      "Reading in and transforming data...\n"
     ]
    }
   ],
   "source": [
    "from util import get_normalized_data, error_rate, cost, y2indicator\n",
    "import matplotlib.pyplot as plt\n",
    "\n",
    "max_iter = 20 # make it 30 for sigmoid\n",
    "print_period = 100\n",
    "\n",
    "X, Y = get_normalized_data()\n",
    "lr = 0.00004\n",
    "reg = 0.01\n",
    "\n",
    "Xtrain = X[:-1000,]\n",
    "Ytrain = Y[:-1000]\n",
    "Xtest  = X[-1000:,]\n",
    "Ytest  = Y[-1000:]\n",
    "Ytrain_ind = y2indicator(Ytrain)\n",
    "Ytest_ind = y2indicator(Ytest)\n",
    "\n",
    "N, D = Xtrain.shape\n",
    "batch_sz = 500\n",
    "n_batches = N // batch_sz\n",
    "\n",
    "M = 300\n",
    "K = 10\n",
    "W1 = np.random.randn(D, M) / 28\n",
    "b1 = np.zeros(M)\n",
    "W2 = np.random.randn(M, K) / np.sqrt(M)\n",
    "b2 = np.zeros(K)"
   ]
  },
  {
   "cell_type": "code",
   "execution_count": 4,
   "metadata": {},
   "outputs": [
    {
     "name": "stdout",
     "output_type": "stream",
     "text": [
      "Cost at iteration i=0, j=0: 2511.790666\n",
      "Error rate: 0.902\n",
      "Cost at iteration i=1, j=0: 720.871422\n",
      "Error rate: 0.169\n",
      "Cost at iteration i=2, j=0: 493.942860\n",
      "Error rate: 0.132\n",
      "Cost at iteration i=3, j=0: 406.028949\n",
      "Error rate: 0.108\n",
      "Cost at iteration i=4, j=0: 357.715374\n",
      "Error rate: 0.102\n",
      "Cost at iteration i=5, j=0: 326.390797\n",
      "Error rate: 0.104\n",
      "Cost at iteration i=6, j=0: 303.713040\n",
      "Error rate: 0.1\n",
      "Cost at iteration i=7, j=0: 286.125654\n",
      "Error rate: 0.093\n",
      "Cost at iteration i=8, j=0: 271.892601\n",
      "Error rate: 0.086\n",
      "Cost at iteration i=9, j=0: 259.975023\n",
      "Error rate: 0.086\n",
      "Cost at iteration i=10, j=0: 249.752426\n",
      "Error rate: 0.081\n",
      "Cost at iteration i=11, j=0: 240.827743\n",
      "Error rate: 0.077\n",
      "Cost at iteration i=12, j=0: 232.905240\n",
      "Error rate: 0.073\n",
      "Cost at iteration i=13, j=0: 225.789166\n",
      "Error rate: 0.071\n",
      "Cost at iteration i=14, j=0: 219.271121\n",
      "Error rate: 0.067\n",
      "Cost at iteration i=15, j=0: 213.317230\n",
      "Error rate: 0.064\n",
      "Cost at iteration i=16, j=0: 207.879363\n",
      "Error rate: 0.062\n",
      "Cost at iteration i=17, j=0: 202.898540\n",
      "Error rate: 0.059\n",
      "Cost at iteration i=18, j=0: 198.262699\n",
      "Error rate: 0.056\n",
      "Cost at iteration i=19, j=0: 193.952522\n",
      "Error rate: 0.055\n",
      "Final error rate: 0.054\n"
     ]
    },
    {
     "data": {
      "image/png": "[encoded data removed]",
      "text/plain": [
       "<matplotlib.figure.Figure at 0x1c86d9e55f8>"
      ]
     },
     "metadata": {},
     "output_type": "display_data"
    }
   ],
   "source": [
    "# 1. const\n",
    "# cost = -16\n",
    "LL_batch = []\n",
    "CR_batch = []\n",
    "for i in range(max_iter):\n",
    "    for j in range(n_batches):\n",
    "        Xbatch = Xtrain[j*batch_sz:(j*batch_sz + batch_sz),]\n",
    "        Ybatch = Ytrain_ind[j*batch_sz:(j*batch_sz + batch_sz),]\n",
    "        pYbatch, Z = forward(Xbatch, W1, b1, W2, b2)\n",
    "        # print \"first batch cost:\", cost(pYbatch, Ybatch)\n",
    "\n",
    "        # updates\n",
    "        W2 -= lr*(derivative_w2(Z, Ybatch, pYbatch) + reg*W2)\n",
    "        b2 -= lr*(derivative_b2(Ybatch, pYbatch) + reg*b2)\n",
    "        W1 -= lr*(derivative_w1(Xbatch, Z, Ybatch, pYbatch, W2) + reg*W1)\n",
    "        b1 -= lr*(derivative_b1(Z, Ybatch, pYbatch, W2) + reg*b1)\n",
    "        \n",
    "        # calculate just for LL\n",
    "        pY, _ = forward(Xtest, W1, b1, W2, b2)\n",
    "        # print \"pY:\", pY\n",
    "        ll = cost(pY, Ytest_ind)\n",
    "        LL_batch.append(ll)\n",
    "\n",
    "        if j % print_period == 0:\n",
    "            print(\"Cost at iteration i=%d, j=%d: %.6f\" % (i, j, ll))\n",
    "            err = error_rate(pY, Ytest)\n",
    "            CR_batch.append(err)\n",
    "            print(\"Error rate:\", err)\n",
    "\n",
    "pY, _ = forward(Xtest, W1, b1, W2, b2)\n",
    "print(\"Final error rate:\", error_rate(pY, Ytest))\n",
    "\n",
    "plt.plot(LL_batch, label='const')\n",
    "plt.show()"
   ]
  },
  {
   "cell_type": "code",
   "execution_count": 5,
   "metadata": {},
   "outputs": [
    {
     "name": "stdout",
     "output_type": "stream",
     "text": [
      "Cost at iteration i=0, j=0: 1355.735527\n",
      "Error rate: 0.395\n",
      "Cost at iteration i=1, j=0: 181.563479\n",
      "Error rate: 0.059\n",
      "Cost at iteration i=2, j=0: 142.660414\n",
      "Error rate: 0.041\n",
      "Cost at iteration i=3, j=0: 111.870778\n",
      "Error rate: 0.034\n",
      "Cost at iteration i=4, j=0: 97.903423\n",
      "Error rate: 0.029\n",
      "Cost at iteration i=5, j=0: 88.783939\n",
      "Error rate: 0.026\n",
      "Cost at iteration i=6, j=0: 81.401291\n",
      "Error rate: 0.026\n",
      "Cost at iteration i=7, j=0: 75.593788\n",
      "Error rate: 0.023\n",
      "Cost at iteration i=8, j=0: 70.446267\n",
      "Error rate: 0.02\n",
      "Cost at iteration i=9, j=0: 66.354439\n",
      "Error rate: 0.019\n",
      "Cost at iteration i=10, j=0: 63.133130\n",
      "Error rate: 0.019\n",
      "Cost at iteration i=11, j=0: 60.855676\n",
      "Error rate: 0.018\n",
      "Cost at iteration i=12, j=0: 58.729382\n",
      "Error rate: 0.019\n",
      "Cost at iteration i=13, j=0: 57.666428\n",
      "Error rate: 0.018\n",
      "Cost at iteration i=14, j=0: 56.640649\n",
      "Error rate: 0.018\n",
      "Cost at iteration i=15, j=0: 55.643525\n",
      "Error rate: 0.018\n",
      "Cost at iteration i=16, j=0: 55.267639\n",
      "Error rate: 0.018\n",
      "Cost at iteration i=17, j=0: 54.821270\n",
      "Error rate: 0.018\n",
      "Cost at iteration i=18, j=0: 54.289278\n",
      "Error rate: 0.018\n",
      "Cost at iteration i=19, j=0: 53.951864\n",
      "Error rate: 0.018\n",
      "Final error rate: 0.018\n"
     ]
    },
    {
     "data": {
      "image/png": "[encoded data removed]",
      "text/plain": [
       "<matplotlib.figure.Figure at 0x1c86d0dfeb8>"
      ]
     },
     "metadata": {},
     "output_type": "display_data"
    }
   ],
   "source": [
    "# 2. RMSprop\n",
    "W1 = np.random.randn(D, M) / 28\n",
    "b1 = np.zeros(M)\n",
    "W2 = np.random.randn(M, K) / np.sqrt(M)\n",
    "b2 = np.zeros(K)\n",
    "LL_rms = []\n",
    "CR_rms = []\n",
    "lr0 = 0.001 # if you set this too high you'll get NaN!\n",
    "cache_W2 = 1\n",
    "cache_b2 = 1\n",
    "cache_W1 = 1\n",
    "cache_b1 = 1\n",
    "decay_rate = 0.999\n",
    "eps = 1e-10\n",
    "for i in range(max_iter):\n",
    "    for j in range(n_batches):\n",
    "        Xbatch = Xtrain[j*batch_sz:(j*batch_sz + batch_sz),]\n",
    "        Ybatch = Ytrain_ind[j*batch_sz:(j*batch_sz + batch_sz),]\n",
    "        pYbatch, Z = forward(Xbatch, W1, b1, W2, b2)\n",
    "        # print \"first batch cost:\", cost(pYbatch, Ybatch)\n",
    "\n",
    "        # updates\n",
    "        gW2 = derivative_w2(Z, Ybatch, pYbatch) + reg*W2\n",
    "        cache_W2 = decay_rate*cache_W2 + (1 - decay_rate)*gW2*gW2\n",
    "        W2 -= lr0 * gW2 / (np.sqrt(cache_W2) + eps)\n",
    "\n",
    "        gb2 = derivative_b2(Ybatch, pYbatch) + reg*b2\n",
    "        cache_b2 = decay_rate*cache_b2 + (1 - decay_rate)*gb2*gb2\n",
    "        b2 -= lr0 * gb2 / (np.sqrt(cache_b2) + eps)\n",
    "\n",
    "        gW1 = derivative_w1(Xbatch, Z, Ybatch, pYbatch, W2) + reg*W1\n",
    "        cache_W1 = decay_rate*cache_W1 + (1 - decay_rate)*gW1*gW1\n",
    "        W1 -= lr0 * gW1 / (np.sqrt(cache_W1) + eps)\n",
    "\n",
    "        gb1 = derivative_b1(Z, Ybatch, pYbatch, W2) + reg*b1\n",
    "        cache_b1 = decay_rate*cache_b1 + (1 - decay_rate)*gb1*gb1\n",
    "        b1 -= lr0 * gb1 / (np.sqrt(cache_b1) + eps)\n",
    "        \n",
    "        # calculate just for LL\n",
    "        pY, _ = forward(Xtest, W1, b1, W2, b2)\n",
    "        # print \"pY:\", pY\n",
    "        ll = cost(pY, Ytest_ind)\n",
    "        LL_rms.append(ll)\n",
    "\n",
    "        if j % print_period == 0:\n",
    "            print(\"Cost at iteration i=%d, j=%d: %.6f\" % (i, j, ll))\n",
    "            err = error_rate(pY, Ytest)\n",
    "            CR_rms.append(err)\n",
    "            print(\"Error rate:\", err)\n",
    "\n",
    "pY, _ = forward(Xtest, W1, b1, W2, b2)\n",
    "print(\"Final error rate:\", error_rate(pY, Ytest))\n",
    "\n",
    "plt.plot(LL_rms, label='rms')\n",
    "plt.show()"
   ]
  },
  {
   "cell_type": "code",
   "execution_count": 7,
   "metadata": {},
   "outputs": [
    {
     "data": {
      "image/png": "[encoded data removed]",
      "text/plain": [
       "<matplotlib.figure.Figure at 0x1c8025fb748>"
      ]
     },
     "metadata": {},
     "output_type": "display_data"
    }
   ],
   "source": [
    "plt.plot(LL_batch, label='const')\n",
    "plt.plot(LL_rms, label='rms')\n",
    "plt.legend()\n",
    "plt.show()"
   ]
  },
  {
   "cell_type": "code",
   "execution_count": null,
   "metadata": {
    "collapsed": true
   },
   "outputs": [],
   "source": []
  }
 ],
 "metadata": {
  "kernelspec": {
   "display_name": "Python 3",
   "language": "python",
   "name": "python3"
  },
  "language_info": {
   "codemirror_mode": {
    "name": "ipython",
    "version": 3
   },
   "file_extension": ".py",
   "mimetype": "text/x-python",
   "name": "python",
   "nbconvert_exporter": "python",
   "pygments_lexer": "ipython3",
   "version": "3.6.2"
  }
 },
 "nbformat": 4,
 "nbformat_minor": 2
}
