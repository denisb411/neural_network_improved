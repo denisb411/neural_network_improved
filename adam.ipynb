{
 "cells": [
  {
   "cell_type": "code",
   "execution_count": 1,
   "metadata": {
    "collapsed": true
   },
   "outputs": [],
   "source": [
    "import numpy as np\n",
    "\n",
    "def forward(X, W1, b1, W2, b2):\n",
    "    # sigmoid\n",
    "    # Z = 1 / (1 + np.exp(-( X.dot(W1) + b1 )))\n",
    "\n",
    "    # relu\n",
    "    Z = X.dot(W1) + b1\n",
    "    Z[Z < 0] = 0\n",
    "\n",
    "    A = Z.dot(W2) + b2\n",
    "    expA = np.exp(A)\n",
    "    Y = expA / expA.sum(axis=1, keepdims=True)\n",
    "    return Y, Z\n",
    "\n",
    "def derivative_w2(Z, T, Y):\n",
    "    return Z.T.dot(Y - T)\n",
    "\n",
    "def derivative_b2(T, Y):\n",
    "    return (Y - T).sum(axis=0)\n",
    "\n",
    "def derivative_w1(X, Z, T, Y, W2, act_function='relu'):\n",
    "    if act_function == 'sigmoid':\n",
    "        return X.T.dot( ( ( Y-T ).dot(W2.T) * ( Z*(1 - Z) ) ) ) # for sigmoid\n",
    "    return X.T.dot( ( ( Y-T ).dot(W2.T) * (Z > 0) ) ) # for relu\n",
    "\n",
    "def derivative_b1(Z, T, Y, W2, act_function='relu'):\n",
    "    if act_function == 'sigmoid':\n",
    "        return (( Y-T ).dot(W2.T) * ( Z*(1 - Z) )).sum(axis=0) # for sigmoid\n",
    "    return (( Y-T ).dot(W2.T) * (Z > 0)).sum(axis=0) # for relu\n"
   ]
  },
  {
   "cell_type": "code",
   "execution_count": 2,
   "metadata": {},
   "outputs": [
    {
     "name": "stdout",
     "output_type": "stream",
     "text": [
      "Reading in and transforming data...\n"
     ]
    }
   ],
   "source": [
    "from util import get_normalized_data, error_rate, cost, y2indicator\n",
    "import matplotlib.pyplot as plt\n",
    "\n",
    "max_iter = 10\n",
    "print_period = 100\n",
    "\n",
    "X, Y = get_normalized_data()\n",
    "reg = 0.01\n",
    "\n",
    "Xtrain = X[:-1000,]\n",
    "Ytrain = Y[:-1000]\n",
    "Xtest  = X[-1000:,]\n",
    "Ytest  = Y[-1000:]\n",
    "Ytrain_ind = y2indicator(Ytrain)\n",
    "Ytest_ind = y2indicator(Ytest)\n",
    "\n",
    "N, D = Xtrain.shape\n",
    "batch_sz = 500\n",
    "n_batches = N // batch_sz\n",
    "\n",
    "M = 300\n",
    "K = 10\n",
    "W1_0 = np.random.randn(D, M) / np.sqrt(D)\n",
    "b1_0 = np.zeros(M)\n",
    "W2_0 = np.random.randn(M, K) / np.sqrt(M)\n",
    "b2_0 = np.zeros(K)\n",
    "\n",
    "W1 = W1_0.copy()\n",
    "b1 = b1_0.copy()\n",
    "W2 = W2_0.copy()\n",
    "b2 = b2_0.copy()\n",
    "\n",
    "# 1st moment\n",
    "mW1 = 0\n",
    "mb1 = 0\n",
    "mW2 = 0\n",
    "mb2 = 0\n",
    "\n",
    "# 2nd moment\n",
    "vW1 = 0\n",
    "vb1 = 0\n",
    "vW2 = 0\n",
    "vb2 = 0\n",
    "\n",
    "# hyperparams\n",
    "lr0 = 0.001\n",
    "beta1 = 0.9\n",
    "beta2 = 0.999\n",
    "eps = 1e-8"
   ]
  },
  {
   "cell_type": "code",
   "execution_count": 3,
   "metadata": {},
   "outputs": [
    {
     "name": "stdout",
     "output_type": "stream",
     "text": [
      "Cost at iteration i=0, j=0: 2060.395325\n",
      "Error rate: 0.67\n",
      "Cost at iteration i=1, j=0: 227.072054\n",
      "Error rate: 0.066\n",
      "Cost at iteration i=2, j=0: 187.475606\n",
      "Error rate: 0.059\n",
      "Cost at iteration i=3, j=0: 166.782665\n",
      "Error rate: 0.048\n",
      "Cost at iteration i=4, j=0: 152.845955\n",
      "Error rate: 0.045\n",
      "Cost at iteration i=5, j=0: 145.531318\n",
      "Error rate: 0.041\n",
      "Cost at iteration i=6, j=0: 140.263418\n",
      "Error rate: 0.04\n",
      "Cost at iteration i=7, j=0: 138.556144\n",
      "Error rate: 0.039\n",
      "Cost at iteration i=8, j=0: 136.776992\n",
      "Error rate: 0.038\n",
      "Cost at iteration i=9, j=0: 135.608318\n",
      "Error rate: 0.036\n",
      "Final error rate: 0.035\n"
     ]
    },
    {
     "data": {
      "image/png": "[encoded data removed]",
      "text/plain": [
       "<matplotlib.figure.Figure at 0x1ce6d9234a8>"
      ]
     },
     "metadata": {},
     "output_type": "display_data"
    }
   ],
   "source": [
    "# 1. Adam\n",
    "loss_adam = []\n",
    "err_adam = []\n",
    "t = 1\n",
    "for i in range(max_iter):\n",
    "    for j in range(n_batches):\n",
    "        Xbatch = Xtrain[j*batch_sz:(j*batch_sz + batch_sz),]\n",
    "        Ybatch = Ytrain_ind[j*batch_sz:(j*batch_sz + batch_sz),]\n",
    "        pYbatch, Z = forward(Xbatch, W1, b1, W2, b2)\n",
    "\n",
    "        # updates\n",
    "        # gradients\n",
    "        gW2 = derivative_w2(Z, Ybatch, pYbatch) + reg*W2\n",
    "        gb2 = derivative_b2(Ybatch, pYbatch) + reg*b2\n",
    "        gW1 = derivative_w1(Xbatch, Z, Ybatch, pYbatch, W2) + reg*W1\n",
    "        gb1 = derivative_b1(Z, Ybatch, pYbatch, W2) + reg*b1\n",
    "\n",
    "        # new m\n",
    "        mW1 = beta1 * mW1 + (1 - beta1) * gW1\n",
    "        mb1 = beta1 * mb1 + (1 - beta1) * gb1\n",
    "        mW2 = beta1 * mW2 + (1 - beta1) * gW2\n",
    "        mb2 = beta1 * mb2 + (1 - beta1) * gb2\n",
    "\n",
    "        # new v\n",
    "        vW1 = beta2 * vW1 + (1 - beta2) * gW1 * gW1\n",
    "        vb1 = beta2 * vb1 + (1 - beta2) * gb1 * gb1\n",
    "        vW2 = beta2 * vW2 + (1 - beta2) * gW2 * gW2\n",
    "        vb2 = beta2 * vb2 + (1 - beta2) * gb2 * gb2\n",
    "\n",
    "        # bias correction\n",
    "        correction1 = 1 - beta1 ** t\n",
    "        hat_mW1 = mW1 / correction1\n",
    "        hat_mb1 = mb1 / correction1\n",
    "        hat_mW2 = mW2 / correction1\n",
    "        hat_mb2 = mb2 / correction1\n",
    "\n",
    "        correction2 = 1 - beta2 ** t\n",
    "        hat_vW1 = vW1 / correction2\n",
    "        hat_vb1 = vb1 / correction2\n",
    "        hat_vW2 = vW2 / correction2\n",
    "        hat_vb2 = vb2 / correction2\n",
    "\n",
    "        # update t\n",
    "        t += 1\n",
    "\n",
    "        # apply updates to the params\n",
    "        W1 = W1 - lr0 * hat_mW1 / np.sqrt(hat_vW1 + eps)\n",
    "        b1 = b1 - lr0 * hat_mb1 / np.sqrt(hat_vb1 + eps)\n",
    "        W2 = W2 - lr0 * hat_mW2 / np.sqrt(hat_vW2 + eps)\n",
    "        b2 = b2 - lr0 * hat_mb2 / np.sqrt(hat_vb2 + eps)\n",
    "        pY, _ = forward(Xtest, W1, b1, W2, b2)\n",
    "        l = cost(pY, Ytest_ind)\n",
    "        loss_adam.append(l)\n",
    "\n",
    "\n",
    "        if j % print_period == 0:\n",
    "            print(\"Cost at iteration i=%d, j=%d: %.6f\" % (i, j, l))\n",
    "            err = error_rate(pY, Ytest)\n",
    "            err_adam.append(err)\n",
    "            print(\"Error rate:\", err)\n",
    "\n",
    "pY, _ = forward(Xtest, W1, b1, W2, b2)\n",
    "print(\"Final error rate:\", error_rate(pY, Ytest))\n",
    "\n",
    "plt.plot(loss_adam, label='adam')\n",
    "plt.show()"
   ]
  },
  {
   "cell_type": "code",
   "execution_count": 4,
   "metadata": {},
   "outputs": [
    {
     "name": "stdout",
     "output_type": "stream",
     "text": [
      "Cost at iteration i=0, j=0: 2332.023477\n",
      "Error rate: 0.866\n",
      "Cost at iteration i=1, j=0: 234.603735\n",
      "Error rate: 0.063\n",
      "Cost at iteration i=2, j=0: 202.312112\n",
      "Error rate: 0.058\n",
      "Cost at iteration i=3, j=0: 184.050144\n",
      "Error rate: 0.05\n",
      "Cost at iteration i=4, j=0: 174.149690\n",
      "Error rate: 0.046\n",
      "Cost at iteration i=5, j=0: 162.278285\n",
      "Error rate: 0.046\n",
      "Cost at iteration i=6, j=0: 156.562857\n",
      "Error rate: 0.044\n",
      "Cost at iteration i=7, j=0: 151.220040\n",
      "Error rate: 0.039\n",
      "Cost at iteration i=8, j=0: 149.913918\n",
      "Error rate: 0.038\n",
      "Cost at iteration i=9, j=0: 149.632428\n",
      "Error rate: 0.036\n",
      "Final error rate: 0.038\n"
     ]
    },
    {
     "data": {
      "image/png": "[encoded data removed]",
      "text/plain": [
       "<matplotlib.figure.Figure at 0x1ce6d940dd8>"
      ]
     },
     "metadata": {},
     "output_type": "display_data"
    }
   ],
   "source": [
    "# 2. RMSprop with momentum\n",
    "W1 = W1_0.copy()\n",
    "b1 = b1_0.copy()\n",
    "W2 = W2_0.copy()\n",
    "b2 = b2_0.copy()\n",
    "loss_rms = []\n",
    "err_rms = []\n",
    "\n",
    "# comparable hyperparameters for fair comparison\n",
    "lr0 = 0.001\n",
    "mu = 0.9\n",
    "decay_rate = 0.999\n",
    "eps = 1e-8\n",
    "\n",
    "# rmsprop cache\n",
    "cache_W2 = 1\n",
    "cache_b2 = 1\n",
    "cache_W1 = 1\n",
    "cache_b1 = 1\n",
    "\n",
    "# momentum\n",
    "dW1 = 0\n",
    "db1 = 0\n",
    "dW2 = 0\n",
    "db2 = 0\n",
    "\n",
    "for i in range(max_iter):\n",
    "    for j in range(n_batches):\n",
    "        Xbatch = Xtrain[j*batch_sz:(j*batch_sz + batch_sz),]\n",
    "        Ybatch = Ytrain_ind[j*batch_sz:(j*batch_sz + batch_sz),]\n",
    "        pYbatch, Z = forward(Xbatch, W1, b1, W2, b2)\n",
    "\n",
    "        # updates\n",
    "        gW2 = derivative_w2(Z, Ybatch, pYbatch) + reg*W2\n",
    "        cache_W2 = decay_rate*cache_W2 + (1 - decay_rate)*gW2*gW2\n",
    "        dW2 = mu * dW2 + (1 - mu) * lr0 * gW2 / (np.sqrt(cache_W2) + eps)\n",
    "        W2 -= dW2\n",
    "\n",
    "        gb2 = derivative_b2(Ybatch, pYbatch) + reg*b2\n",
    "        cache_b2 = decay_rate*cache_b2 + (1 - decay_rate)*gb2*gb2\n",
    "        db2 = mu * db2 + (1 - mu) * lr0 * gb2 / (np.sqrt(cache_b2) + eps)\n",
    "        b2 -= db2\n",
    "\n",
    "        gW1 = derivative_w1(Xbatch, Z, Ybatch, pYbatch, W2) + reg*W1\n",
    "        cache_W1 = decay_rate*cache_W1 + (1 - decay_rate)*gW1*gW1\n",
    "        dW1 = mu * dW1 + (1 - mu) * lr0 * gW1 / (np.sqrt(cache_W1) + eps)\n",
    "        W1 -= dW1\n",
    "\n",
    "        gb1 = derivative_b1(Z, Ybatch, pYbatch, W2) + reg*b1\n",
    "        cache_b1 = decay_rate*cache_b1 + (1 - decay_rate)*gb1*gb1\n",
    "        db1 = mu * db1 + (1 - mu) * lr0 * gb1 / (np.sqrt(cache_b1) + eps)\n",
    "        b1 -= db1\n",
    "        \n",
    "        pY, _ = forward(Xtest, W1, b1, W2, b2)\n",
    "        l = cost(pY, Ytest_ind)\n",
    "        loss_rms.append(l)\n",
    "\n",
    "        if j % print_period == 0:\n",
    "            print(\"Cost at iteration i=%d, j=%d: %.6f\" % (i, j, l))\n",
    "            err = error_rate(pY, Ytest)\n",
    "            err_rms.append(err)\n",
    "            print(\"Error rate:\", err)\n",
    "\n",
    "pY, _ = forward(Xtest, W1, b1, W2, b2)\n",
    "print(\"Final error rate:\", error_rate(pY, Ytest))\n",
    "plt.plot(loss_rms, label='rmsprop')\n",
    "plt.show()"
   ]
  },
  {
   "cell_type": "code",
   "execution_count": 5,
   "metadata": {},
   "outputs": [
    {
     "data": {
      "image/png": "[encoded data removed]",
      "text/plain": [
       "<matplotlib.figure.Figure at 0x1ce6328b6d8>"
      ]
     },
     "metadata": {},
     "output_type": "display_data"
    }
   ],
   "source": [
    "plt.plot(loss_adam, label='adam')\n",
    "plt.plot(loss_rms, label='rmsprop')\n",
    "plt.legend()\n",
    "plt.show()"
   ]
  },
  {
   "cell_type": "code",
   "execution_count": null,
   "metadata": {
    "collapsed": true
   },
   "outputs": [],
   "source": []
  }
 ],
 "metadata": {
  "kernelspec": {
   "display_name": "Python 3",
   "language": "python",
   "name": "python3"
  },
  "language_info": {
   "codemirror_mode": {
    "name": "ipython",
    "version": 3
   },
   "file_extension": ".py",
   "mimetype": "text/x-python",
   "name": "python",
   "nbconvert_exporter": "python",
   "pygments_lexer": "ipython3",
   "version": "3.6.2"
  }
 },
 "nbformat": 4,
 "nbformat_minor": 2
}
